{
 "cells": [
  {
   "cell_type": "code",
   "execution_count": null,
   "id": "d14b9046",
   "metadata": {},
   "outputs": [],
   "source": [
    "import pandas as pd\n",
    "import numpy as np"
   ]
  },
  {
   "cell_type": "code",
   "execution_count": null,
   "id": "4116b165",
   "metadata": {},
   "outputs": [],
   "source": [
    "def generate_config_lrzip():\n",
    "    config_option = []\n",
    "    all_possible_configs = []\n",
    "    all_config_str = []\n",
    "    for algorithm in ['compressionZpaq', 'compressionBzip2', 'compressionGzip', 'compressionLrzip', 'compressionLzo']:\n",
    "        for level in ['level1', 'level2']:\n",
    "            for window in ['window1', 'window2', 'window3', 'window4', 'window5']:\n",
    "                for nice in ['nice1', 'nice2', 'nice3', 'nice4', 'nice5']:\n",
    "                    for processor in ['process1', 'process2', 'process3', 'process4']:\n",
    "                        # _cmd = 'sudo lrzip {} -L {} -w {} -N {} -p {}'.format(algorithm, level, window, nice, processor)\n",
    "                        all_possible_configs.append([algorithm, level, window, nice, processor])\n",
    "                        config_str = str(algorithm) + ',' + str(level) + ',' + str(window) + ',' + str(nice) + ',' + str(processor)\n",
    "                        all_config_str.append(config_str)\n",
    "                        # config_option.append(_cmd)\n",
    "    return all_possible_configs, all_config_str"
   ]
  },
  {
   "cell_type": "code",
   "execution_count": null,
   "id": "f736965f",
   "metadata": {},
   "outputs": [],
   "source": [
    "config_signal, config_str = generate_config_lrzip()"
   ]
  },
  {
   "cell_type": "code",
   "execution_count": null,
   "id": "afaebe73",
   "metadata": {
    "scrolled": true
   },
   "outputs": [],
   "source": [
    "all_selected_samples_id = []\n",
    "for time in range(1,21):\n",
    "    df = pd.read_csv('./lrzip/lrzip_'+str(time)+'/sampledConfigurations_distBased_t3.csv', delimiter = \";\")\n",
    "    selected_samples=[]\n",
    "    for i in range(200):\n",
    "        element_line = ''\n",
    "        for j in [2,3,4,5,6,8,9,11,12,13,14,15,17,18,19,20,21,23,24,25,26]:\n",
    "            if df.iloc[i,j]==1:\n",
    "                element_line+=df.columns[j]+','\n",
    "        element_line = element_line[:-1]\n",
    "        selected_samples.append(element_line)\n",
    "    selected_samples_id = []\n",
    "    for element in selected_samples:\n",
    "        for i in range(len(config_str)):\n",
    "            if config_str[i] == element:\n",
    "                selected_samples_id.append(i)\n",
    "    #selected_samples_id = [i for i in range(len(config_str)) if config_str[i] in selected_samples]\n",
    "    selected_samples_id = np.array(selected_samples_id[0:54], dtype='int')\n",
    "    print(len(selected_samples_id))\n",
    "    all_selected_samples_id.append(selected_samples_id)"
   ]
  },
  {
   "cell_type": "code",
   "execution_count": null,
   "id": "4960df08",
   "metadata": {},
   "outputs": [],
   "source": [
    "all_selected_samples_id = np.matrix(all_selected_samples_id, dtype='int')"
   ]
  },
  {
   "cell_type": "code",
   "execution_count": null,
   "id": "98fa0111",
   "metadata": {},
   "outputs": [],
   "source": [
    "all_selected_samples_id"
   ]
  },
  {
   "cell_type": "code",
   "execution_count": null,
   "id": "2a25fa00",
   "metadata": {},
   "outputs": [],
   "source": [
    "np.save('../Compare/selection_methods/lrzip/distBased.npy', all_selected_samples_id)"
   ]
  },
  {
   "cell_type": "code",
   "execution_count": null,
   "id": "0d654769",
   "metadata": {},
   "outputs": [],
   "source": [
    "def generate_config_llvm():\n",
    "    config_option = []\n",
    "    all_possible_configs = []\n",
    "    configs = ['gvn,', 'instcombine,', 'inline,', 'jump_threading,', 'simplifycfg,', 'sccp,', 'ipsccp,', 'licm,',\n",
    "               'iv_users,']\n",
    "    all_combination = powerset(configs)\n",
    "    for x in all_combination:\n",
    "        if len(x) > 0:\n",
    "            cmd = ''\n",
    "            for item in x:\n",
    "                cmd += item\n",
    "            config_option.append(cmd)\n",
    "    for a1 in range(0, 2):\n",
    "        for a2 in range(0, 2):\n",
    "            for a3 in range(0, 2):\n",
    "                for a4 in range(0, 2):\n",
    "                    for a5 in range(0, 2):\n",
    "                        for a6 in range(0, 2):\n",
    "                            for a7 in range(0, 2):\n",
    "                                for a8 in range(0, 2):\n",
    "                                    for a9 in range(0, 2):\n",
    "                                        all_possible_configs.append([a1, a2, a3, a4, a5, a6, a7, a8, a9])\n",
    "    all_possible_configs.remove([0]*9)\n",
    "    return all_possible_configs, config_option"
   ]
  },
  {
   "cell_type": "code",
   "execution_count": null,
   "id": "9de59a6d",
   "metadata": {},
   "outputs": [],
   "source": [
    "from itertools import chain, combinations\n",
    "def powerset(list_name):\n",
    "    s = list(list_name)\n",
    "    return chain.from_iterable(combinations(s, r) for r in range(len(s)+1))"
   ]
  },
  {
   "cell_type": "code",
   "execution_count": null,
   "id": "5e10798f",
   "metadata": {},
   "outputs": [],
   "source": [
    "config_signal, config_str = generate_config_llvm()"
   ]
  },
  {
   "cell_type": "code",
   "execution_count": null,
   "id": "243e1a91",
   "metadata": {},
   "outputs": [],
   "source": [
    "all_selected_samples_id = []\n",
    "for time in range(1,21):\n",
    "    df = pd. read_csv('../llvm/llvm_'+str(time)+'/sampledConfigurations_twise_t3.csv', delimiter = \";\")\n",
    "    selected_samples=[]\n",
    "    for i in range(len(df)):\n",
    "        element_line = ''\n",
    "        for j in [2,3,4,5,6,7,8,9,10]:\n",
    "            if df.iloc[i,j]==1:\n",
    "                element_line+=df.columns[j]+','\n",
    "        element_line = element_line\n",
    "        selected_samples.append(element_line)\n",
    "    selected_samples_id = []\n",
    "    for element in selected_samples:\n",
    "        for i in range(len(config_str)):\n",
    "            if config_str[i] == element:\n",
    "                selected_samples_id.append(i)\n",
    "    selected_samples_id = np.array(selected_samples_id, dtype='int')\n",
    "    print(len(selected_samples_id))\n",
    "    all_selected_samples_id.append(selected_samples_id)"
   ]
  },
  {
   "cell_type": "code",
   "execution_count": null,
   "id": "2b63b811",
   "metadata": {},
   "outputs": [],
   "source": [
    "all_selected_samples_id = np.matrix(all_selected_samples_id, dtype='int')"
   ]
  },
  {
   "cell_type": "code",
   "execution_count": null,
   "id": "d57c010e",
   "metadata": {
    "scrolled": false
   },
   "outputs": [],
   "source": [
    "np.save('../Compare/selection_methods/LLVM/twise.npy', all_selected_samples_id)"
   ]
  },
  {
   "cell_type": "code",
   "execution_count": null,
   "id": "8a31f7f9",
   "metadata": {},
   "outputs": [],
   "source": [
    "def generate_config_x264():\n",
    "    asm = ['', 'no_asm ']\n",
    "    x8dct = ['', 'no_8x8dct ']\n",
    "    cabac = ['', 'no_cabac ']\n",
    "    deblock = ['', 'no_deblock ']\n",
    "    pskip = ['', 'no_fast_pskip ']\n",
    "    mbtree = ['', 'no_mbtree ']\n",
    "    mixed_refs = ['', 'no_mixed_refs ']\n",
    "    weightb = ['', 'no_weightb ']\n",
    "    rc_lookahead = ['rc_lookahead_20 ', 'rc_lookahead_40 ']\n",
    "    rc_value = [20, 40]\n",
    "    ref = ['ref_1 ', 'ref_5 ', 'ref_9 ']\n",
    "    ref_value = [1, 5, 9]\n",
    "    eye_2 = np.eye(2)\n",
    "    config_option = []\n",
    "    all_possible_configs = []\n",
    "    for element0 in asm:\n",
    "        for element1 in x8dct:\n",
    "            for element2 in cabac:\n",
    "                for element3 in deblock:\n",
    "                    for element4 in pskip:\n",
    "                        for element5 in mbtree:\n",
    "                            for element6 in mixed_refs:\n",
    "                                for element7 in weightb:\n",
    "                                    for element8 in rc_lookahead:\n",
    "                                        for element9 in ref:\n",
    "                                            # _cmd = '../x264/x264 '\n",
    "                                            _cmd = ''\n",
    "                                            _cmd = _cmd + element0\n",
    "                                            if element0 !='':\n",
    "                                                _cmd += ','\n",
    "                                            _cmd = _cmd + element1\n",
    "                                            if element1 !='':\n",
    "                                                _cmd += ','\n",
    "                                            _cmd = _cmd + element2\n",
    "                                            if element2 !='':\n",
    "                                                _cmd += ','\n",
    "                                            _cmd = _cmd + element3\n",
    "                                            if element3 !='':\n",
    "                                                _cmd += ','\n",
    "                                            _cmd = _cmd + element4\n",
    "                                            if element4 !='':\n",
    "                                                _cmd += ','\n",
    "                                            _cmd = _cmd + element5\n",
    "                                            if element5 !='':\n",
    "                                                _cmd += ','\n",
    "                                            _cmd = _cmd + element6\n",
    "                                            if element6 !='':\n",
    "                                                _cmd += ','\n",
    "                                            _cmd = _cmd + element7\n",
    "                                            if element7 !='':\n",
    "                                                _cmd += ','\n",
    "                                            _cmd = _cmd + element8\n",
    "                                            if element8 !='':\n",
    "                                                _cmd += ','\n",
    "                                            _cmd = _cmd + element9\n",
    "                                            if element9 !='':\n",
    "                                                _cmd += ','\n",
    "                                            config_option.append(_cmd)\n",
    "                                            v0 = eye_2[asm.index(element0)]\n",
    "                                            v1 = eye_2[x8dct.index(element1)]\n",
    "                                            v2 = eye_2[cabac.index(element2)]\n",
    "                                            v3 = eye_2[deblock.index(element3)]\n",
    "                                            v4 = eye_2[pskip.index(element4)]\n",
    "                                            v5 = eye_2[mbtree.index(element5)]\n",
    "                                            v6 = eye_2[mixed_refs.index(element6)]\n",
    "                                            v7 = eye_2[weightb.index(element7)]\n",
    "                                            v8 = float(rc_value[rc_lookahead.index(element8)])\n",
    "                                            v9 = float(ref_value[ref.index(element9)])\n",
    "                                            all_possible_config = np.concatenate((v0, v1, v2, v3, v4, v5, v6, v7, v8, v9), axis=None)\n",
    "                                            all_possible_configs.append(all_possible_config)\n",
    "                                            # print(_cmd)\n",
    "                                            config_option.append(_cmd)\n",
    "    return all_possible_configs, config_option"
   ]
  },
  {
   "cell_type": "code",
   "execution_count": null,
   "id": "3459b5be",
   "metadata": {},
   "outputs": [],
   "source": [
    "config_signal, config_str = generate_config_x264()"
   ]
  },
  {
   "cell_type": "code",
   "execution_count": null,
   "id": "bf766d7d",
   "metadata": {},
   "outputs": [],
   "source": [
    "all_selected_samples_id = []\n",
    "for time in range(1,21):\n",
    "    df = pd. read_csv('./x264/x264_'+str(time)+'/sampledConfigurations_divDistBased_t3.csv', delimiter = \";\")\n",
    "    selected_samples=[]\n",
    "    for i in range(len(df)):\n",
    "        element_line = ''\n",
    "        for j in [2,3,4,5,6,7,8,10,11,13,14,15]:\n",
    "            if df.iloc[i,j]==1:\n",
    "                element_line+=df.columns[j]+' ,'\n",
    "        element_line = element_line\n",
    "        selected_samples.append(element_line)\n",
    "    selected_samples_id = []\n",
    "    for element in selected_samples:\n",
    "        for i in range(len(config_str)):\n",
    "            if config_str[i] == element:\n",
    "                selected_samples_id.append(i)\n",
    "    selected_samples_id = np.array(selected_samples_id[0:40], dtype='int')\n",
    "    print(len(selected_samples_id))\n",
    "    all_selected_samples_id.append(selected_samples_id)"
   ]
  },
  {
   "cell_type": "code",
   "execution_count": null,
   "id": "78861791",
   "metadata": {},
   "outputs": [],
   "source": [
    "all_selected_samples_id = np.matrix(all_selected_samples_id, dtype='int')"
   ]
  },
  {
   "cell_type": "code",
   "execution_count": null,
   "id": "3295dbde",
   "metadata": {},
   "outputs": [],
   "source": [
    "np.save('../Compare/selection_methods/x264/divDistBased.npy', all_selected_samples_id)"
   ]
  },
  {
   "cell_type": "markdown",
   "id": "6cc770e5",
   "metadata": {},
   "source": [
    "# sqlite"
   ]
  },
  {
   "cell_type": "code",
   "execution_count": null,
   "id": "d76756db",
   "metadata": {},
   "outputs": [],
   "source": [
    "def generate_config_sqlite():\n",
    "    config_option = []\n",
    "    all_possible_configs = []\n",
    "    cache_size_list = ['cache_size_4000,', 'cache_size_2000,']\n",
    "    auto_index_list = ['auto_index_1,', 'auto_index_2,']\n",
    "    page_size_list = ['page_size_512,', 'page_size_1024,', 'page_size_2048,']\n",
    "    locking_mode_list = ['locking_mode_0,', 'locking_mode_1,']\n",
    "    omit_feature_list = ['omit_feature_1,', 'omit_feature_2,', 'omit_feature_3,', 'omit_feature_4,',\n",
    "                                         'omit_feature_5,', 'omit_feature_6,', 'omit_feature_7,',\n",
    "                                         'omit_feature_8,', 'omit_feature_9,']\n",
    "    store_type_list = ['store_type_0,', 'store_type_1,', 'store_type_2,', 'store_type_3,']\n",
    "    disable_feature_list = ['disable_feature_1,', 'disable_feature_2,']\n",
    "    autovacuum_list = ['autovacuum_1,', 'autovacuum_2,']\n",
    "    eye_2 = np.eye(2)\n",
    "    eye_3 = np.eye(3)\n",
    "    eye_4 = np.eye(4)\n",
    "    eye_9 = np.eye(9)\n",
    "    for cache_size in cache_size_list:\n",
    "        for auto_index in auto_index_list:\n",
    "            for page_size in page_size_list:\n",
    "                for locking_mode in locking_mode_list:\n",
    "                    for omit_feature in omit_feature_list:\n",
    "                        for store_type in store_type_list:\n",
    "                            for disable_feature in disable_feature_list:\n",
    "                                for autovacuum in autovacuum_list:\n",
    "                                    cmd = cache_size\n",
    "                                    cmd += auto_index\n",
    "                                    cmd += page_size\n",
    "                                    cmd += locking_mode\n",
    "                                    cmd += omit_feature\n",
    "                                    cmd += store_type\n",
    "                                    cmd += disable_feature\n",
    "                                    cmd += autovacuum\n",
    "                                    v0 = eye_2[cache_size_list.index(cache_size)]\n",
    "                                    v1 = eye_2[auto_index_list.index(auto_index)]\n",
    "                                    v2 = eye_3[page_size_list.index(page_size)]\n",
    "                                    v3 = eye_2[locking_mode_list.index(locking_mode)]\n",
    "                                    v4 = eye_9[omit_feature_list.index(omit_feature)]\n",
    "                                    v5 = eye_4[store_type_list.index(store_type)]\n",
    "                                    v6 = eye_2[disable_feature_list.index(disable_feature)]\n",
    "                                    v7 = eye_2[autovacuum_list.index(autovacuum)]\n",
    "                                    all_possible_config = np.concatenate((v0, v1, v2, v3, v4, v5, v6, v7), axis=None)\n",
    "                                    all_possible_configs.append(all_possible_config)\n",
    "                                    config_option.append(cmd[0:-1])\n",
    "    return all_possible_configs, config_option"
   ]
  },
  {
   "cell_type": "code",
   "execution_count": null,
   "id": "43d0e4d2",
   "metadata": {},
   "outputs": [],
   "source": [
    "config_signal, config_str = generate_config_sqlite()"
   ]
  },
  {
   "cell_type": "code",
   "execution_count": null,
   "id": "48a73163",
   "metadata": {},
   "outputs": [],
   "source": [
    "all_selected_samples_id = []\n",
    "for time in range(1,21):\n",
    "    df = pd.read_csv('../Compare/SPL_Conqueror/sqlite_SPL/sqlite_'\n",
    "                     +str(time)+'/sampledConfigurations_twise_t3.csv', delimiter = \";\")\n",
    "    selected_samples=[]\n",
    "    for i in range(len(df)):\n",
    "        element_line = ''\n",
    "        for j in [1,2,3,4,5,6,7,8,9,10,12,13,14,15,16,17,18,19,20,21,22,23,24,25,26]:\n",
    "            if df.iloc[i,j]==1:\n",
    "                element_line+=df.columns[j]+','\n",
    "        element_line = element_line[0:-1]\n",
    "        selected_samples.append(element_line)\n",
    "    print(len(selected_samples))\n",
    "    selected_samples_id = []\n",
    "    for element in selected_samples:\n",
    "        for i in range(len(config_str)):\n",
    "            if config_str[i] == element:\n",
    "                selected_samples_id.append(i)\n",
    "    selected_samples_id = np.array(selected_samples_id[0:125], dtype='int')\n",
    "    print(len(selected_samples_id))\n",
    "    if len(selected_samples_id)<125:\n",
    "        selected_samples_id = np.concatenate((selected_samples_id, np.array([0]*(125-len(selected_samples_id)), dtype='int')))\n",
    "        print(len(selected_samples_id))\n",
    "    all_selected_samples_id.append(selected_samples_id)"
   ]
  },
  {
   "cell_type": "code",
   "execution_count": null,
   "id": "4dbee258",
   "metadata": {},
   "outputs": [],
   "source": [
    "all_selected_samples_id = np.matrix(all_selected_samples_id, dtype='int')"
   ]
  },
  {
   "cell_type": "code",
   "execution_count": null,
   "id": "e029063d",
   "metadata": {},
   "outputs": [],
   "source": [
    "np.save('../Compare/SPL_Conqueror/sqlite/twise.npy', all_selected_samples_id)"
   ]
  },
  {
   "cell_type": "markdown",
   "id": "576b8964",
   "metadata": {},
   "source": [
    "# NSbs"
   ]
  },
  {
   "cell_type": "code",
   "execution_count": null,
   "id": "21d874a1",
   "metadata": {},
   "outputs": [],
   "source": [
    "config_signal, config_str = generate_config_lrzip()"
   ]
  },
  {
   "cell_type": "code",
   "execution_count": null,
   "id": "30d3eb70",
   "metadata": {},
   "outputs": [],
   "source": [
    "config_element_list=['compress','compressionZpaq', 'compressionBzip2', 'compressionGzip', 'compressionLrzip',\n",
    "                     'compressionLzo','level','level1', 'level2','window','window1', 'window2', 'window3', 'window4', 'window5',\n",
    "                    'nice','nice1', 'nice2', 'nice3', 'nice4', 'nice5','process','process1', 'process2', 'process3', 'process4']"
   ]
  },
  {
   "cell_type": "code",
   "execution_count": null,
   "id": "dc5a8b1c",
   "metadata": {},
   "outputs": [],
   "source": [
    "len(config_element_list)"
   ]
  },
  {
   "cell_type": "code",
   "execution_count": null,
   "id": "91c2a18e",
   "metadata": {},
   "outputs": [],
   "source": [
    "selected_id_list_set=[]\n",
    "for time in range(20):\n",
    "    f = open('../Compare/lrzip.dimacs/500prods/Products.' + str(time), \"r\")\n",
    "    lines = f.readlines()\n",
    "    selected_id_list=[]\n",
    "    for line in lines:\n",
    "        elements = line.split(';')\n",
    "        elements = np.array(elements, dtype='int')\n",
    "        output_string = \"\"\n",
    "        for i in [2,3,4,5,6,8,9,11,12,13,14,15,17,18,19,20,21,23,24,25,26]:\n",
    "            if int(elements[i-1])>0:\n",
    "                output_string += str(config_element_list[i-1])+ ','\n",
    "        output_string = output_string[0:-1]\n",
    "        for i in range(len(config_str)):\n",
    "            if config_str[i] == output_string:\n",
    "                selected_id_list.append(i)\n",
    "    selected_id_list = np.array(selected_id_list[0:56])\n",
    "    selected_id_list_set.append(selected_id_list)\n",
    "    "
   ]
  },
  {
   "cell_type": "code",
   "execution_count": null,
   "id": "9c8ff4c7",
   "metadata": {},
   "outputs": [],
   "source": [
    "selected_id_list_set = np.matrix(selected_id_list_set, dtype='int')"
   ]
  },
  {
   "cell_type": "code",
   "execution_count": null,
   "id": "51f25d47",
   "metadata": {},
   "outputs": [],
   "source": [
    "np.save('../Compare/NsbS/lrzip/NsbS.npy', selected_id_list_set)"
   ]
  },
  {
   "cell_type": "code",
   "execution_count": null,
   "id": "bf07b288",
   "metadata": {},
   "outputs": [],
   "source": [
    "config_signal, config_str = generate_config_llvm()"
   ]
  },
  {
   "cell_type": "code",
   "execution_count": null,
   "id": "1ecaf1e7",
   "metadata": {},
   "outputs": [],
   "source": [
    "config_element_list=['time_pass', 'gvn,', 'instcombine,', 'inline,', 'jump_threading,', 'simplifycfg,', 'sccp,', 'ipsccp,', 'licm,',\n",
    "               'iv_users,']"
   ]
  },
  {
   "cell_type": "code",
   "execution_count": null,
   "id": "27f01974",
   "metadata": {},
   "outputs": [],
   "source": [
    "selected_id_list_set=[]\n",
    "for time in range(20):\n",
    "    f = open('../Compare/LLVM.dimacs/500prods/Products.' + str(time), \"r\")\n",
    "    lines = f.readlines()\n",
    "    selected_id_list=[]\n",
    "    for line in lines:\n",
    "        elements = line.split(';')\n",
    "        elements = np.array(elements, dtype='int')\n",
    "        output_string = \"\"\n",
    "        for i in [2,3,4,5,6,8,9,10]:\n",
    "            if int(elements[i-1])>0:\n",
    "                output_string += str(config_element_list[i-1])\n",
    "        #output_string = output_string[0:-1]\n",
    "        for i in range(len(config_str)):\n",
    "            if config_str[i] == output_string:\n",
    "                selected_id_list.append(i)\n",
    "    selected_id_list = np.array(selected_id_list[0:200])\n",
    "    print(len(selected_id_list))\n",
    "    selected_id_list_set.append(selected_id_list)"
   ]
  },
  {
   "cell_type": "code",
   "execution_count": null,
   "id": "9a69393a",
   "metadata": {},
   "outputs": [],
   "source": [
    "selected_id_list_set = np.matrix(selected_id_list_set, dtype='int')"
   ]
  },
  {
   "cell_type": "code",
   "execution_count": null,
   "id": "90e9fd13",
   "metadata": {},
   "outputs": [],
   "source": [
    "np.save('../Compare/NsbS/llvm/NsbS.npy', selected_id_list_set)"
   ]
  },
  {
   "cell_type": "code",
   "execution_count": null,
   "id": "d6b3a177",
   "metadata": {},
   "outputs": [],
   "source": [
    "config_signal, config_str = generate_config_x264()"
   ]
  },
  {
   "cell_type": "code",
   "execution_count": null,
   "id": "30048350",
   "metadata": {},
   "outputs": [],
   "source": [
    "config_element_list = ['no_asm ', 'no_8x8dct ', 'no_cabac ', 'no_deblock ', 'no_fast_pskip ', 'no_mbtree ', \n",
    "                       'no_mixed_refs ', 'no_weightb ','rc_lookahead','ref',\n",
    "                       'rc_lookahead_20 ', 'rc_lookahead_40 ','ref_1 ', 'ref_5 ', 'ref_9 ']"
   ]
  },
  {
   "cell_type": "code",
   "execution_count": null,
   "id": "8ed63da1",
   "metadata": {},
   "outputs": [],
   "source": [
    "selected_id_list_set=[]\n",
    "for time in range(20):\n",
    "    f = open('../Compare/X264.dimacs/500prods/Products.' + str(time), \"r\")\n",
    "    lines = f.readlines()\n",
    "    selected_id_list=[]\n",
    "    for line in lines:\n",
    "        elements = line.split(';')\n",
    "        elements = np.array(elements, dtype='int')\n",
    "        output_string = \"\"\n",
    "        for i in [2,3,4,5,6,8,11,12,13,14,15]:\n",
    "            if int(elements[i-1])>0:\n",
    "                output_string += str(config_element_list[i-1])+ ','\n",
    "        #output_string = output_string[0:-1]\n",
    "        for i in range(len(config_str)):\n",
    "            if config_str[i] == output_string:\n",
    "                selected_id_list.append(i)\n",
    "    selected_id_list = np.array(selected_id_list[0:40])\n",
    "    print(len(selected_id_list))\n",
    "    selected_id_list_set.append(selected_id_list)"
   ]
  },
  {
   "cell_type": "code",
   "execution_count": null,
   "id": "867a274c",
   "metadata": {},
   "outputs": [],
   "source": [
    "selected_id_list_set = np.matrix(selected_id_list_set, dtype='int')"
   ]
  },
  {
   "cell_type": "code",
   "execution_count": null,
   "id": "874f5bcd",
   "metadata": {},
   "outputs": [],
   "source": [
    "np.save('../Compare/NsbS/x264/NsbS.npy', selected_id_list_set)"
   ]
  },
  {
   "cell_type": "code",
   "execution_count": null,
   "id": "73f891c5",
   "metadata": {},
   "outputs": [],
   "source": [
    "config_element_list = ['cache_size_4000,', 'cache_size_2000,','auto_index_1,', 'auto_index_2,',\n",
    "                       'page_size_512,', 'page_size_1024,', 'page_size_2048,','locking_mode_0,', \n",
    "                       'locking_mode_1,','omit_feature_1,', 'omit_feature_2,', 'omit_feature_3,', \n",
    "                       'omit_feature_4,','omit_feature_5,', 'omit_feature_6,', 'omit_feature_7,',\n",
    "                       'omit_feature_8,', 'omit_feature_9,','store_type_0,', 'store_type_1,', \n",
    "                       'store_type_2,', 'store_type_3,','disable_feature_1,', 'disable_feature_2,',\n",
    "                      'autovacuum_1,', 'autovacuum_2,']"
   ]
  },
  {
   "cell_type": "code",
   "execution_count": null,
   "id": "a0d934c8",
   "metadata": {
    "scrolled": true
   },
   "outputs": [],
   "source": [
    "config_signal, config_str = generate_config_sqlite()\n",
    "right_sequence = [2,3,5,6,8,9,10,12,13,15,16,17,18,19,20,21,22,23,25,26,27,28,30,31,33,34]\n",
    "selected_id_list_set=[]\n",
    "for time in range(20):\n",
    "    f = open('../Compare/sqlite.dimacs/300prods/Products.' + str(time), \"r\")\n",
    "    lines = f.readlines()\n",
    "    selected_id_list=[]\n",
    "    for line in lines:\n",
    "        elements = line.split(';')\n",
    "        elements = np.array(elements, dtype='int')\n",
    "        output_string = \"\"\n",
    "        for i,j in zip(right_sequence, list(range(0, len(right_sequence)))):\n",
    "            if int(elements[i-1])>0:\n",
    "                output_string += str(config_element_list[j])\n",
    "        output_string = output_string[0:-1]\n",
    "        for i in range(len(config_str)):\n",
    "            if config_str[i] == output_string:\n",
    "                selected_id_list.append(i)\n",
    "    selected_id_list = np.array(selected_id_list[0:125])\n",
    "    if len(selected_id_list)<125:\n",
    "        selected_id_list = np.concatenate((selected_id_list,[0]*(125-len(selected_id_list))))\n",
    "    print(len(selected_id_list))\n",
    "    selected_id_list_set.append(selected_id_list)\n"
   ]
  },
  {
   "cell_type": "code",
   "execution_count": null,
   "id": "cdf321f4",
   "metadata": {},
   "outputs": [],
   "source": [
    "selected_id_list_set = np.matrix(selected_id_list_set, dtype='int')"
   ]
  },
  {
   "cell_type": "code",
   "execution_count": null,
   "id": "fa631124",
   "metadata": {},
   "outputs": [],
   "source": [
    "np.save('../Compare/NsbS/sqlite/NsbS.npy', selected_id_list_set)"
   ]
  },
  {
   "cell_type": "code",
   "execution_count": null,
   "id": "b820b615",
   "metadata": {},
   "outputs": [],
   "source": [
    "file = open('../Compare/deepPerfscreen/sqlite.0', 'r')\n",
    "lines = file.readlines()\n",
    "error_list = []\n",
    "for line in lines:\n",
    "    if line.startswith('Experiment'):\n",
    "        print(len(error_list))\n",
    "    if line.startswith('R2 is'):\n",
    "        error_list.append(float(line[6:].strip()))\n",
    "\n",
    "error_list.append(1)\n",
    "error_list.append(1)\n",
    "error_list = np.array(error_list)\n",
    "error_list_split = np.split(error_list, 20)"
   ]
  },
  {
   "cell_type": "code",
   "execution_count": null,
   "id": "5b7f1d8f",
   "metadata": {},
   "outputs": [],
   "source": [
    "data = []\n",
    "for i in range(0, len(error_list_split)):\n",
    "    subset = [error_list_split[i][idx] for idx in range(21, 125, 25)]\n",
    "    data.append(subset)\n",
    "error_list_split = data"
   ]
  },
  {
   "cell_type": "code",
   "execution_count": null,
   "id": "5477eee6",
   "metadata": {},
   "outputs": [],
   "source": [
    "error_list_split = np.transpose(error_list_split)"
   ]
  },
  {
   "cell_type": "code",
   "execution_count": null,
   "id": "095b6a55",
   "metadata": {},
   "outputs": [],
   "source": [
    "error_list_split = np.matrix(error_list_split, dtype='float')"
   ]
  },
  {
   "cell_type": "code",
   "execution_count": null,
   "id": "6be86af0",
   "metadata": {},
   "outputs": [],
   "source": [
    "np.save('../Compare/AL-deepPerf_sqlite.npy', error_list_split)"
   ]
  },
  {
   "cell_type": "code",
   "execution_count": null,
   "id": "4e27d879",
   "metadata": {},
   "outputs": [],
   "source": [
    "mre_mutate = np.load('../Compare/x264/AL-RF-mre.npy')"
   ]
  },
  {
   "cell_type": "code",
   "execution_count": null,
   "id": "11d811a7",
   "metadata": {},
   "outputs": [],
   "source": [
    "data = []\n",
    "for i in range(0, len(mre_mutate)):\n",
    "    subset = [mre_mutate[i][idx] for idx in range(0, 40, 5)]\n",
    "    data.append(subset)\n",
    "mre_mutate = data"
   ]
  },
  {
   "cell_type": "code",
   "execution_count": null,
   "id": "54cc6af4",
   "metadata": {},
   "outputs": [],
   "source": [
    "mre_mutate = np.transpose(mre_mutate)"
   ]
  },
  {
   "cell_type": "code",
   "execution_count": null,
   "id": "7f133748",
   "metadata": {},
   "outputs": [],
   "source": [
    "data_gen_x264 = [[1.902556,0.715186,0.597756,1.040346,1.011517,1.201724,0.679216,0.521301],\n",
    "           [0.865101,1.454701,1.603232,0.529270,0.988119,1.080246,0.571431,1.016338],\n",
    "           [1.561737,0.914639,0.553605,1.437419,0.773263,0.677262,0.564293,0.584243],\n",
    "           [1.199559,1.511122,0.796132,0.662699,0.916252,0.932741,0.500236,0.412864],\n",
    "           [2.174456,0.945698,1.708566,1.039848,0.726642,0.886041,0.691610,2.150137],\n",
    "           [1.803820,0.837433,0.868302,0.989309,1.177217,0.812972,1.062945,0.617571],\n",
    "           [0.847842,0.656382,0.960489,0.677226,0.603873,0.755420,0.837406,0.818869],\n",
    "           [0.684345,1.601058,0.651590,0.999201,0.621872,1.062826,0.997222,0.598260],\n",
    "           [1.267057,0.788965,1.161326,0.862873,0.859404,0.534173,0.683158,0.807551]]"
   ]
  },
  {
   "cell_type": "code",
   "execution_count": null,
   "id": "1ef89344",
   "metadata": {},
   "outputs": [],
   "source": [
    "data_gen_x264 = np.transpose(data_gen_x264)"
   ]
  },
  {
   "cell_type": "code",
   "execution_count": null,
   "id": "d44b9f64",
   "metadata": {},
   "outputs": [],
   "source": [
    "for element in data_gen_x264:\n",
    "    print(mean(element))"
   ]
  },
  {
   "cell_type": "code",
   "execution_count": null,
   "id": "25e49eac",
   "metadata": {},
   "outputs": [],
   "source": [
    "file = open('../llvm.0')\n",
    "lines = file.readlines()\n",
    "j = False\n",
    "mre_list = []\n",
    "for line in lines:   \n",
    "    if line.__contains__('Epoch 49'):\n",
    "        j=True\n",
    "    if line.startswith('Test Set') and j:\n",
    "        element = line.split(',')\n",
    "        mre = float(element[0][13:])\n",
    "        mre_list.append(mre*100)\n",
    "        j=False\n",
    "file = open('../llvm.1')\n",
    "lines = file.readlines()\n",
    "for line in lines:   \n",
    "    if line.__contains__('Epoch 49'):\n",
    "        j=True\n",
    "    if line.startswith('Test Set') and j:\n",
    "        element = line.split(',')\n",
    "        mre = float(element[0][13:])\n",
    "        mre_list.append(mre*100)\n",
    "        j=False\n",
    "mre_list = np.array(mre_list)\n",
    "mre_list = np.split(mre_list,18)"
   ]
  },
  {
   "cell_type": "code",
   "execution_count": null,
   "id": "6aee5bea",
   "metadata": {},
   "outputs": [],
   "source": [
    "mre_list = np.transpose(mre_list)\n",
    "for element in mre_list:\n",
    "    print(mean(element))"
   ]
  },
  {
   "cell_type": "code",
   "execution_count": null,
   "id": "5861f47e",
   "metadata": {},
   "outputs": [],
   "source": [
    "file = open('../Compare/GANperf/sqlite_mse.0')\n",
    "lines = file.readlines()\n",
    "j = False\n",
    "mre_list = []\n",
    "for line in lines:   \n",
    "    if line.__contains__('Epoch 49'):\n",
    "        j=True\n",
    "    if line.startswith('Test Set') and j:\n",
    "        element = line.split(',')\n",
    "        mre = float(element[0][13:])\n",
    "        mre_list.append(mre*100)\n",
    "        j=False\n",
    "mre_list = np.array(mre_list)\n",
    "print(len(mre_list))\n",
    "mre_list = np.split(mre_list,20)"
   ]
  },
  {
   "cell_type": "code",
   "execution_count": null,
   "id": "c9446157",
   "metadata": {
    "scrolled": true
   },
   "outputs": [],
   "source": [
    "mre_list = np.transpose(mre_list)\n",
    "for element in mre_list:\n",
    "    print(mean(element))"
   ]
  },
  {
   "cell_type": "code",
   "execution_count": null,
   "id": "786e013a",
   "metadata": {},
   "outputs": [],
   "source": [
    "file = open('../Compare/GANperf/llvm_200.0')\n",
    "lines = file.readlines()\n",
    "j = False\n",
    "mre_list = []\n",
    "for line in lines:   \n",
    "    if line.__contains__('Epoch 49'):\n",
    "        j=True\n",
    "    if line.startswith('R2') and j:\n",
    "        # element = line.split(',')\n",
    "        # mre = float(element[0][13:])\n",
    "        mre = float(line[3:].strip())\n",
    "        mre_list.append(mre)\n",
    "        j=False\n",
    "mre_list = np.array(mre_list)\n",
    "print(len(mre_list))\n",
    "mre_list = np.split(mre_list,20)"
   ]
  },
  {
   "cell_type": "code",
   "execution_count": null,
   "id": "262f47b8",
   "metadata": {},
   "outputs": [],
   "source": [
    "mre_list = np.transpose(mre_list)\n",
    "for element in mre_list:\n",
    "    print(mean(element))"
   ]
  },
  {
   "cell_type": "code",
   "execution_count": null,
   "id": "1ca407d8",
   "metadata": {},
   "outputs": [],
   "source": [
    "error_list_split = np.matrix(mre_list, dtype='float')"
   ]
  },
  {
   "cell_type": "code",
   "execution_count": null,
   "id": "97c5ce6d",
   "metadata": {},
   "outputs": [],
   "source": [
    "np.save('../Compare/AL-GAN_sqlite.npy', error_list_split)"
   ]
  },
  {
   "cell_type": "code",
   "execution_count": null,
   "id": "ec4fc3e1",
   "metadata": {},
   "outputs": [],
   "source": [
    "file = open('../Compare/mse_file/sqlite_mse.0', 'r')\n",
    "lines = file.readlines()\n",
    "error_list_set = []\n",
    "error_list = []\n",
    "for line in lines:\n",
    "    if line.startswith('Sample size') and len(error_list)>0:\n",
    "        error_list_set.append(error_list)\n",
    "        error_list = []\n",
    "    if line.startswith('R2 score :'):\n",
    "        error_list.append(float(line[10:].strip()))\n",
    "\n",
    "# error_list_set = np.array(error_list_set)\n",
    "print(len(error_list_set))\n",
    "# error_list_split = np.split(error_list, 22)"
   ]
  },
  {
   "cell_type": "code",
   "execution_count": null,
   "id": "5d240eaa",
   "metadata": {},
   "outputs": [],
   "source": [
    "for element in error_list_set:\n",
    "    print(mean(element))"
   ]
  },
  {
   "cell_type": "code",
   "execution_count": null,
   "id": "8f45fe02",
   "metadata": {},
   "outputs": [],
   "source": [
    "len(error_list_split)"
   ]
  },
  {
   "cell_type": "code",
   "execution_count": null,
   "id": "14f520c2",
   "metadata": {},
   "outputs": [],
   "source": [
    "file = open('../Compare/deepPerfscreen/sqlite.0', 'r')\n",
    "lines = file.readlines()\n",
    "error_list_set = []\n",
    "error_list = []\n",
    "for line in lines:\n",
    "    if line.startswith('Sample size') and len(error_list)>0:\n",
    "        error_list = error_list[0:125]\n",
    "        error_list_set.append(error_list)\n",
    "        error_list = []\n",
    "    if line.startswith('query index is:'):\n",
    "        idx = line[16:].strip()\n",
    "        idx = idx.replace(']', '')\n",
    "        error_list.append(int(idx))"
   ]
  },
  {
   "cell_type": "code",
   "execution_count": null,
   "id": "4cc33e36",
   "metadata": {},
   "outputs": [],
   "source": [
    "np.save('../Compare/sqlite_selected_idx.npy', error_list_set)"
   ]
  },
  {
   "cell_type": "code",
   "execution_count": null,
   "id": "25a54b52",
   "metadata": {},
   "outputs": [],
   "source": [
    "c0 = np.load('../Compare/sqlite_selected_idx.npy')"
   ]
  }
 ],
 "metadata": {
  "kernelspec": {
   "display_name": "Python 3 (ipykernel)",
   "language": "python",
   "name": "python3"
  },
  "language_info": {
   "codemirror_mode": {
    "name": "ipython",
    "version": 3
   },
   "file_extension": ".py",
   "mimetype": "text/x-python",
   "name": "python",
   "nbconvert_exporter": "python",
   "pygments_lexer": "ipython3",
   "version": "3.8.8"
  }
 },
 "nbformat": 4,
 "nbformat_minor": 5
}
